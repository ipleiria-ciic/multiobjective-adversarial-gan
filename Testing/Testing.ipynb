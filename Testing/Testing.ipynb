{
 "cells": [
  {
   "cell_type": "code",
   "execution_count": 41,
   "id": "d6e37980-0910-45e3-8305-a9d41261f6a9",
   "metadata": {},
   "outputs": [],
   "source": [
    "import json\n",
    "from collections import defaultdict\n",
    "import pandas as pd"
   ]
  },
  {
   "cell_type": "code",
   "execution_count": 58,
   "id": "f006bf4a-7352-4cb0-8af2-9d7ba76839ef",
   "metadata": {},
   "outputs": [],
   "source": [
    "attack=\"SGA\""
   ]
  },
  {
   "cell_type": "code",
   "execution_count": 59,
   "id": "c4bc7d82-66e7-47f1-98c5-cd3e58668b5d",
   "metadata": {},
   "outputs": [],
   "source": [
    "with open(f'Results/{attack}.json', 'r') as f:\n",
    "    data = json.load(f)"
   ]
  },
  {
   "cell_type": "code",
   "execution_count": 61,
   "id": "b3f91474-8cb6-43bf-b2df-ac907961c441",
   "metadata": {},
   "outputs": [
    {
     "name": "stdout",
     "output_type": "stream",
     "text": [
      "          fooling_rate       lpips_score       fid_score       \n",
      "                  mean   std        mean   std      mean    std\n",
      "model                                                          \n",
      "AlexNet          78.29  8.99        0.25  0.05     32.60   7.83\n",
      "ResNet152        77.95  5.86        0.24  0.05     34.93  10.10\n",
      "ResNet18         77.56  5.67        0.24  0.05     36.43   8.81\n",
      "VGG16            77.67  7.13        0.25  0.05     34.54  10.45\n",
      "VGG19            75.51  5.98        0.25  0.05     33.97   8.97\n"
     ]
    }
   ],
   "source": [
    "df = pd.DataFrame(data)\n",
    "\n",
    "df['fooling_rate'] = pd.to_numeric(df['fooling_rate'], errors='coerce')\n",
    "df['fid_score'] = pd.to_numeric(df['fid_score'], errors='coerce')\n",
    "df['lpips_score'] = pd.to_numeric(df['lpips_score'], errors='coerce')\n",
    "\n",
    "grouped = df.groupby('model')[['fooling_rate', 'lpips_score', 'fid_score']].agg(['mean', 'std'])\n",
    "\n",
    "grouped[('fooling_rate', 'mean')] *= 100\n",
    "grouped[('fooling_rate', 'std')] *= 100\n",
    "\n",
    "grouped = grouped.round(2)\n",
    "\n",
    "print(grouped)"
   ]
  },
  {
   "cell_type": "code",
   "execution_count": 40,
   "id": "5a8ae7ba-5dea-4777-88c4-8ad3ee70e595",
   "metadata": {},
   "outputs": [
    {
     "name": "stdout",
     "output_type": "stream",
     "text": [
      "0.01 0.21\n",
      "0.05 0.22\n",
      "0.10 0.25\n",
      "0.15 0.29\n",
      "0.20 0.36\n"
     ]
    }
   ],
   "source": [
    "fooling_rates_by_delta = defaultdict(list)\n",
    "\n",
    "for entry in data:\n",
    "    delta = entry[\"delta\"]\n",
    "    rate = entry[\"lpips_score\"] #fid_score, lpips_score, fooling_rate\n",
    "    fooling_rates_by_delta[delta].append(rate)\n",
    "\n",
    "# Calculate average fooling rate per delta\n",
    "average_fooling_rates = {\n",
    "    delta: sum(rates) / len(rates)\n",
    "    for delta, rates in fooling_rates_by_delta.items()\n",
    "}\n",
    "\n",
    "# Output the result\n",
    "for delta in sorted(average_fooling_rates):\n",
    "    print(f\"{delta} {average_fooling_rates[delta]:.2f}\")"
   ]
  }
 ],
 "metadata": {
  "kernelspec": {
   "display_name": "Python 3 (ipykernel)",
   "language": "python",
   "name": "python3"
  },
  "language_info": {
   "codemirror_mode": {
    "name": "ipython",
    "version": 3
   },
   "file_extension": ".py",
   "mimetype": "text/x-python",
   "name": "python",
   "nbconvert_exporter": "python",
   "pygments_lexer": "ipython3",
   "version": "3.13.2"
  }
 },
 "nbformat": 4,
 "nbformat_minor": 5
}
